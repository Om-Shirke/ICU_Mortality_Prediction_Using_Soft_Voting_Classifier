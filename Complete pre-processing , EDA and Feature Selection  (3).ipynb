{
 "cells": [
  {
   "cell_type": "markdown",
   "id": "eb06c95e",
   "metadata": {},
   "source": [
    "### Notebook Overview\n",
    "This notebook outlines the complete data preparation steps, *excluding scaling and class balancing*. The key processes included are:\n",
    "\n",
    "- Null value imputation  \n",
    "- Statistical analysis and feature selection\n",
    "- Data investigation with visualizations<br>\n",
    "\n",
    "For the remaining steps in this study's implementation, please refer to the other notebooks included in this project.\n",
    "<br>**Also**, multiple visualizations were analysed, but only the ones with significant insights are mentioned here."
   ]
  },
  {
   "cell_type": "code",
   "execution_count": null,
   "id": "63d9c688",
   "metadata": {},
   "outputs": [],
   "source": [
    "## Import libraries\n",
    "import numpy as np\n",
    "import pandas as pd \n",
    "from matplotlib import pyplot as plt\n",
    "import matplotlib.pyplot as plt\n",
    "import seaborn as sns\n",
    "from sklearn.metrics import accuracy_score, f1_score, recall_score\n",
    "from sklearn.preprocessing import StandardScaler\n",
    "from tpot import TPOTClassifier\n",
    "from imblearn.over_sampling import ADASYN\n",
    "from sklearn.model_selection import GridSearchCV\n",
    "from sklearn.metrics import classification_report, accuracy_score, precision_score, recall_score, f1_score, confusion_matrix\n"
   ]
  },
  {
   "cell_type": "code",
   "execution_count": null,
   "id": "78c58fda",
   "metadata": {},
   "outputs": [],
   "source": [
    "## Import libraries\n",
    "from sklearn.linear_model import LogisticRegression\n",
    "from sklearn.ensemble import RandomForestClassifier, GradientBoostingClassifier\n",
    "from sklearn.svm import SVC\n",
    "from xgboost import XGBClassifier\n",
    "from catboost import CatBoostClassifier"
   ]
  },
  {
   "cell_type": "code",
   "execution_count": null,
   "id": "1a24fc2c",
   "metadata": {},
   "outputs": [],
   "source": [
    "df = pd.read_csv(\"data01.csv\")"
   ]
  },
  {
   "cell_type": "code",
   "execution_count": null,
   "id": "71a3b5e6",
   "metadata": {},
   "outputs": [],
   "source": [
    "df.head()"
   ]
  },
  {
   "cell_type": "code",
   "execution_count": null,
   "id": "a0177c25",
   "metadata": {},
   "outputs": [],
   "source": [
    "df.info()"
   ]
  },
  {
   "cell_type": "code",
   "execution_count": null,
   "id": "20fceeba",
   "metadata": {},
   "outputs": [],
   "source": [
    "df.shape"
   ]
  },
  {
   "cell_type": "markdown",
   "id": "f23ad869",
   "metadata": {},
   "source": [
    "# Data Preparation and Pre-Processing"
   ]
  },
  {
   "cell_type": "code",
   "execution_count": null,
   "id": "8423838e",
   "metadata": {},
   "outputs": [],
   "source": [
    "df.columns"
   ]
  },
  {
   "cell_type": "code",
   "execution_count": null,
   "id": "3aad436f",
   "metadata": {},
   "outputs": [],
   "source": [
    "df.rename(columns=lambda x: x.replace(' ', '_'), inplace=True)"
   ]
  },
  {
   "cell_type": "markdown",
   "id": "64e559fb",
   "metadata": {},
   "source": [
    "### Null-value Imputation"
   ]
  },
  {
   "cell_type": "code",
   "execution_count": null,
   "id": "e957f4fe",
   "metadata": {},
   "outputs": [],
   "source": [
    "df.isna().sum()"
   ]
  },
  {
   "cell_type": "code",
   "execution_count": null,
   "id": "21f2c205",
   "metadata": {},
   "outputs": [],
   "source": [
    "null_features = [x for x in df.columns if df[x].isna().any()]\n",
    "null_features.remove('outcome')"
   ]
  },
  {
   "cell_type": "code",
   "execution_count": null,
   "id": "ecbed224",
   "metadata": {},
   "outputs": [],
   "source": [
    "null_features"
   ]
  },
  {
   "cell_type": "code",
   "execution_count": null,
   "id": "0311877d",
   "metadata": {},
   "outputs": [],
   "source": [
    "len(null_features)"
   ]
  },
  {
   "cell_type": "code",
   "execution_count": null,
   "id": "5521e490",
   "metadata": {},
   "outputs": [],
   "source": [
    "plt.style.use('default')"
   ]
  },
  {
   "cell_type": "code",
   "execution_count": null,
   "id": "bd20ad2c",
   "metadata": {},
   "outputs": [],
   "source": [
    "# Total number of rows in the dataset\n",
    "total_rows = df.shape[0]\n",
    "\n",
    "# Calculate the percentage of null values for each feature relative to the total number of rows\n",
    "null_proportions = df[null_features].isnull().sum() / total_rows * 100\n",
    "\n",
    "# Plotting the proportion of null values\n",
    "plt.figure(figsize=(10, 6))\n",
    "null_proportions.plot(kind='bar', color='red')\n",
    "plt.title('Proportion of Null Values for Each Feature relative to Total Rows')\n",
    "plt.xlabel('Null Features')\n",
    "plt.ylabel('Percentage of Null Values')\n",
    "plt.xticks(rotation=45, ha='right')\n",
    "plt.show()\n"
   ]
  },
  {
   "cell_type": "markdown",
   "id": "14d3891f",
   "metadata": {},
   "source": [
    "**Insights**:\n",
    "* Null % < 25 for all columns, no need to drop any features"
   ]
  },
  {
   "cell_type": "code",
   "execution_count": null,
   "id": "9653290e",
   "metadata": {},
   "outputs": [],
   "source": [
    "import pandas as pd\n",
    "import matplotlib.pyplot as plt\n",
    "import numpy as np\n",
    "\n",
    "\n",
    "\n",
    "for feature in null_features:\n",
    "  # Check distribution\n",
    "  plt.hist(df[feature])\n",
    "  plt.xlabel(feature)\n",
    "  plt.ylabel(\"Frequency\")\n",
    "  plt.title(f\"Distribution of {feature}\")\n",
    "  plt.grid(True)\n",
    "  plt.show()\n",
    "  \n",
    "  # Check normality with qqplot\n",
    "  plt.figure()\n",
    "  stats = np.percentile(df[feature], [25, 50, 75])\n",
    "  q1, q3 = stats[0], stats[2]\n",
    "  IQR = q3 - q1\n",
    "  plt.scatter(df[feature], np.sort(df[feature]))\n",
    "  lower_bound = q1 - (1.5 * IQR)\n",
    "  upper_bound = q3 + (1.5 * IQR)\n",
    "  outliers = [x for x in df[feature] if x < lower_bound or x > upper_bound]\n",
    "  plt.scatter(outliers, outliers, color='red', marker='o', alpha=0.5)\n",
    "  plt.plot([lower_bound, upper_bound], [lower_bound, upper_bound], color='red', linestyle='--')\n",
    "  plt.xlabel(feature)\n",
    "  plt.ylabel(\"Ordered Values\")\n",
    "  plt.title(f\"QQ-plot of {feature}\")\n",
    "  plt.grid(True)\n",
    "  plt.show()\n"
   ]
  },
  {
   "cell_type": "code",
   "execution_count": null,
   "id": "d11f1be0",
   "metadata": {},
   "outputs": [],
   "source": [
    "Normal_nulls=['heart_rate','Systolic_blood_pressure','Diastolic_blood_pressure','Blood_calcium']\n",
    "Median_nulls=['BMI','Respiratory_rate','temperature','PH']\n",
    "Skewed_nulls=['SP_O2','Urine_output','Neutrophils','Basophils','Lymphocyte','PT','INR','Creatine_kinase','glucose',\n",
    "              'Lactic_acid','PCO2']"
   ]
  },
  {
   "cell_type": "code",
   "execution_count": null,
   "id": "d4ec971f",
   "metadata": {},
   "outputs": [],
   "source": [
    "import pandas as pd\n",
    "\n",
    "# Creating a dictionary with the categories and their respective variables\n",
    "null_categories = {\n",
    "    \"Normal Nulls\": ['heart_rate', 'Systolic_blood_pressure', 'Diastolic_blood_pressure', 'Blood_calcium'],\n",
    "    \"Median Nulls\": ['BMI', 'Respiratory_rate', 'temperature', 'PH'],\n",
    "    \"Skewed Nulls\": ['SP_O2', 'Urine_output', 'Neutrophils', 'Basophils', 'Lymphocyte', \n",
    "                     'PT', 'INR', 'Creatine_kinase', 'glucose', 'Lactic_acid', 'PCO2']\n",
    "}\n",
    "\n",
    "# Converting the dictionary to a DataFrame and replacing NaN values with empty strings\n",
    "nulls_df = pd.DataFrame(dict([(k, pd.Series(v)) for k, v in null_categories.items()])).fillna('')\n",
    "\n",
    "\n",
    "nulls_df.index = nulls_df.index + 1\n",
    "\n",
    "# Display the DataFrame with additional formatting \n",
    "styled_nulls_df = nulls_df.style.set_table_styles([\n",
    "    {'selector': 'th', 'props': [('border', '2px solid black')]},\n",
    "    {'selector': 'td', 'props': [('border', '1px solid black')]}\n",
    "])\n",
    "\n",
    "\n",
    "styled_nulls_df\n"
   ]
  },
  {
   "cell_type": "code",
   "execution_count": null,
   "id": "8eca9cfd",
   "metadata": {},
   "outputs": [],
   "source": [
    "# Creating a dictionary with the categories and their respective variables\n",
    "null_categories = {\n",
    "    \"Normal_Nulls\": ['heart_rate', 'Systolic_blood_pressure', 'Diastolic_blood_pressure', 'Blood_calcium'],\n",
    "    \"Median_Nulls\": ['BMI', 'Respiratory_rate', 'temperature', 'PH'],\n",
    "    \"Skewed_Nulls\": ['SP_O2', 'Urine_output', 'Neutrophils', 'Basophils', 'Lymphocyte', \n",
    "                     'PT', 'INR', 'Creatine_kinase', 'glucose', 'Lactic_acid', 'PCO2']\n",
    "}\n",
    "\n",
    "# Converting the dictionary to a DataFrame and replacing NaN values with empty strings\n",
    "nulls_df = pd.DataFrame(dict([(k, pd.Series(v)) for k, v in null_categories.items()])).fillna('')\n",
    "\n",
    "# Displaying the DataFrame with additional formatting for a neater output without row numbers\n",
    "styled_nulls_df = nulls_df.style.set_table_styles([\n",
    "    {'selector': 'th', 'props': [('border', '2px solid black')]},\n",
    "    {'selector': 'td', 'props': [('border', '1px solid black')]}\n",
    "]).hide(axis='index')\n",
    "\n",
    "\n",
    "styled_nulls_df\n"
   ]
  },
  {
   "cell_type": "code",
   "execution_count": null,
   "id": "ac8259fb",
   "metadata": {},
   "outputs": [],
   "source": [
    "from sklearn.experimental import enable_iterative_imputer"
   ]
  },
  {
   "cell_type": "code",
   "execution_count": null,
   "id": "2b353cc2",
   "metadata": {},
   "outputs": [],
   "source": [
    "from sklearn.impute import SimpleImputer, IterativeImputer\n"
   ]
  },
  {
   "cell_type": "code",
   "execution_count": null,
   "id": "e2474471",
   "metadata": {},
   "outputs": [],
   "source": [
    "# Imputer objects for different strategies\n",
    "mean_imputer = SimpleImputer(strategy='mean')\n",
    "median_imputer = SimpleImputer(strategy='median')\n",
    "iterative_imputer = IterativeImputer(max_iter=10, random_state=0)  # Create IterativeImputer object\n",
    "\n",
    "# Impute missing values based on distribution\n",
    "df[Normal_nulls] = mean_imputer.fit_transform(df[Normal_nulls])\n",
    "df[Median_nulls] = median_imputer.fit_transform(df[Median_nulls])\n",
    "df[Skewed_nulls] = iterative_imputer.fit_transform(df[Skewed_nulls])\n",
    "\n"
   ]
  },
  {
   "cell_type": "code",
   "execution_count": null,
   "id": "0e44558a",
   "metadata": {},
   "outputs": [],
   "source": [
    "df.isna().sum()"
   ]
  },
  {
   "cell_type": "markdown",
   "id": "dc4b41b2",
   "metadata": {},
   "source": [
    "**Insights**:\n",
    "* Only 1 row with null value, but the null value is in the target variable.\n",
    "* Best if row dropped entirely"
   ]
  },
  {
   "cell_type": "code",
   "execution_count": null,
   "id": "26f73153",
   "metadata": {},
   "outputs": [],
   "source": [
    "df=df.dropna(subset=['outcome'])\n"
   ]
  },
  {
   "cell_type": "code",
   "execution_count": null,
   "id": "3132be17",
   "metadata": {},
   "outputs": [],
   "source": [
    "df.isna().sum()"
   ]
  },
  {
   "cell_type": "code",
   "execution_count": null,
   "id": "0b875293",
   "metadata": {},
   "outputs": [],
   "source": [
    "df.group.value_counts()"
   ]
  },
  {
   "cell_type": "code",
   "execution_count": null,
   "id": "bcff3865",
   "metadata": {},
   "outputs": [],
   "source": [
    "df.ID.value_counts()"
   ]
  },
  {
   "cell_type": "markdown",
   "id": "100c2072",
   "metadata": {},
   "source": [
    "**Insights**:\n",
    "* We can now observe that both \"group\" and \"ID\" hold no significance in the analysis."
   ]
  },
  {
   "cell_type": "code",
   "execution_count": null,
   "id": "798c2793",
   "metadata": {},
   "outputs": [],
   "source": [
    "df.drop(columns=[\"group\",\"ID\"],inplace=True)"
   ]
  },
  {
   "cell_type": "code",
   "execution_count": null,
   "id": "070feaba",
   "metadata": {},
   "outputs": [],
   "source": [
    "df.shape"
   ]
  },
  {
   "cell_type": "code",
   "execution_count": null,
   "id": "5e3c5f68",
   "metadata": {},
   "outputs": [],
   "source": [
    "df.outcome.value_counts(normalize=True)"
   ]
  },
  {
   "cell_type": "code",
   "execution_count": null,
   "id": "8cd3b274",
   "metadata": {},
   "outputs": [],
   "source": [
    "import seaborn as sns\n",
    "import matplotlib.pyplot as plt\n",
    "\n",
    "# Computing the correlation matrix\n",
    "corr = df.corr()\n",
    "\n",
    "# Generating a mask for the upper triangle\n",
    "mask = np.triu(np.ones_like(corr, dtype=bool))\n",
    "\n",
    "# Set up the matplotlib figure\n",
    "plt.figure(figsize=(20,20))\n",
    "\n",
    "# Drawing the heatmap \n",
    "sns.heatmap(corr, mask=mask, cmap='coolwarm', annot=True, fmt=\".2f\", linewidths=.5)\n",
    "\n",
    "plt.title('Correlation Matrix')\n",
    "plt.show()\n"
   ]
  },
  {
   "cell_type": "markdown",
   "id": "75b77672",
   "metadata": {},
   "source": [
    "### Outlier Analysis:"
   ]
  },
  {
   "cell_type": "code",
   "execution_count": null,
   "id": "528e39e2",
   "metadata": {},
   "outputs": [],
   "source": [
    "df.columns"
   ]
  },
  {
   "cell_type": "code",
   "execution_count": null,
   "id": "8ca8fae8",
   "metadata": {},
   "outputs": [],
   "source": [
    "Categorical_Vars=df[['hypertensive','atrialfibrillation', 'CHD_with_no_MI', 'diabetes', 'deficiencyanemias','depression', \n",
    "                 'Hyperlipemia', 'Renal_failure', 'COPD','gendera','outcome']]\n",
    "Numerical_Vars= df.drop(columns=Categorical_Vars.columns)"
   ]
  },
  {
   "cell_type": "code",
   "execution_count": null,
   "id": "8e164fe0",
   "metadata": {},
   "outputs": [],
   "source": [
    "Categorical_Vars_L=list(Categorical_Vars.columns)\n",
    "Numerical_Vars_L=list(Numerical_Vars.columns)"
   ]
  },
  {
   "cell_type": "code",
   "execution_count": null,
   "id": "4fd23259",
   "metadata": {},
   "outputs": [],
   "source": [
    "\n",
    "for feature in Numerical_Vars_L:\n",
    "    plt.figure(figsize=(6, 4))\n",
    "    sns.boxplot(x='outcome', y=feature, data=df)\n",
    "    plt.title(f'Box Plot of {feature} by Outcome')\n",
    "    plt.show()"
   ]
  },
  {
   "cell_type": "code",
   "execution_count": null,
   "id": "f355ff18",
   "metadata": {},
   "outputs": [],
   "source": [
    "\n",
    "for column in Numerical_Vars_L:\n",
    "    plt.figure(figsize=(6, 4))  # Set figure size\n",
    "    sns.boxplot(x=df[column])\n",
    "    plt.title(f'Box Plot of {column}')\n",
    "    plt.xlabel(column)\n",
    "    plt.show()\n"
   ]
  },
  {
   "cell_type": "code",
   "execution_count": null,
   "id": "0f4882f4",
   "metadata": {},
   "outputs": [],
   "source": [
    "Outlier_Columns=[\"Basophils\",\"Lymphocyte\",\"Creatine_kinase\",\"BMI\"]"
   ]
  },
  {
   "cell_type": "code",
   "execution_count": null,
   "id": "1a48c83c",
   "metadata": {},
   "outputs": [],
   "source": [
    "\n",
    "for column in Outlier_Columns:\n",
    "    plt.figure(figsize=(6, 4))  # Set figure size\n",
    "    sns.boxplot(x=df[column])\n",
    "    plt.title(f'Box Plot of {column}')\n",
    "    plt.xlabel(column)\n",
    "    plt.show()"
   ]
  },
  {
   "cell_type": "code",
   "execution_count": null,
   "id": "4fa6ed27",
   "metadata": {},
   "outputs": [],
   "source": [
    "# Capping outliers using IQR method\n",
    "for feature in Outlier_Columns:\n",
    "    # Calculate Q1 (25th percentile) and Q3 (75th percentile)\n",
    "    Q1 = df[feature].quantile(0.25)\n",
    "    Q3 = df[feature].quantile(0.75)\n",
    "    IQR = Q3 - Q1\n",
    "\n",
    "    # Defining the lower and upper bounds for capping\n",
    "    cap_low = Q1 - 1.5 * IQR\n",
    "    cap_high = Q3 + 1.5 * IQR\n",
    "\n",
    "    # Caping the feature values\n",
    "    df[feature] = np.where(df[feature] < cap_low, cap_low, df[feature])\n",
    "    df[feature] = np.where(df[feature] > cap_high, cap_high, df[feature])\n",
    "\n",
    "\n",
    "print(df[Outlier_Columns].describe())\n"
   ]
  },
  {
   "cell_type": "code",
   "execution_count": null,
   "id": "c2a9da19",
   "metadata": {},
   "outputs": [],
   "source": [
    "# Ploting each feature in a separate figure\n",
    "for column in Outlier_Columns:\n",
    "    plt.figure(figsize=(6, 4))  # Set figure size\n",
    "    sns.boxplot(x=df[column])\n",
    "    plt.title(f'Box Plot of {column}')\n",
    "    plt.xlabel(column)\n",
    "    plt.show()"
   ]
  },
  {
   "cell_type": "code",
   "execution_count": null,
   "id": "a624a181",
   "metadata": {},
   "outputs": [],
   "source": [
    "df.dtypes"
   ]
  },
  {
   "cell_type": "code",
   "execution_count": null,
   "id": "e35f3aab",
   "metadata": {},
   "outputs": [],
   "source": [
    "df.head()"
   ]
  },
  {
   "cell_type": "code",
   "execution_count": null,
   "id": "f70b1b99",
   "metadata": {},
   "outputs": [],
   "source": [
    "df[Categorical_Vars_L]"
   ]
  },
  {
   "cell_type": "markdown",
   "id": "d2790a9a",
   "metadata": {},
   "source": []
  },
  {
   "cell_type": "code",
   "execution_count": null,
   "id": "7585472c",
   "metadata": {},
   "outputs": [],
   "source": [
    "df.dtypes"
   ]
  },
  {
   "cell_type": "code",
   "execution_count": null,
   "id": "78d02194",
   "metadata": {},
   "outputs": [],
   "source": []
  },
  {
   "cell_type": "markdown",
   "id": "fe0e26f2",
   "metadata": {},
   "source": [
    "### Visualization"
   ]
  },
  {
   "cell_type": "code",
   "execution_count": null,
   "id": "f4ed8f76",
   "metadata": {},
   "outputs": [],
   "source": [
    "print(sns.axes_style())"
   ]
  },
  {
   "cell_type": "code",
   "execution_count": null,
   "id": "e1ce28b0",
   "metadata": {},
   "outputs": [],
   "source": [
    "plt.style.available"
   ]
  },
  {
   "cell_type": "code",
   "execution_count": null,
   "id": "b92f84f0",
   "metadata": {},
   "outputs": [],
   "source": [
    "df.columns"
   ]
  },
  {
   "cell_type": "code",
   "execution_count": null,
   "id": "cbc52605",
   "metadata": {},
   "outputs": [],
   "source": [
    "plt.style.available"
   ]
  },
  {
   "cell_type": "code",
   "execution_count": null,
   "id": "5612d62f",
   "metadata": {},
   "outputs": [],
   "source": [
    "sns.histplot(df['age'], kde=True, color='orange')\n",
    "plt.title('Distribution of Age')\n",
    "plt.xlabel('Age')\n",
    "plt.ylabel('Density')\n",
    "plt.show()"
   ]
  },
  {
   "cell_type": "code",
   "execution_count": null,
   "id": "a20fd38c",
   "metadata": {
    "scrolled": true
   },
   "outputs": [],
   "source": [
    "import seaborn as sns\n",
    "\n",
    "plt.style.use(\"classic\")\n",
    "\n",
    "plt.figure(figsize=(10, 6))\n",
    "sns.kdeplot(df['heart_rate'].dropna(), shade=True)\n",
    "plt.title('Kernel Density Estimate of Heart Rate')\n",
    "plt.xlabel('Heart Rate')\n",
    "plt.ylabel('Density')\n",
    "plt.show()"
   ]
  },
  {
   "cell_type": "code",
   "execution_count": null,
   "id": "ea20466b",
   "metadata": {},
   "outputs": [],
   "source": [
    "plt.figure(figsize=(10, 6))\n",
    "df['hypertensive'].value_counts().plot(kind='bar')\n",
    "plt.title('Frequency Distribution of Hypertension')\n",
    "plt.xlabel('Hypertensive')\n",
    "plt.ylabel('Count')\n",
    "plt.show()"
   ]
  },
  {
   "cell_type": "code",
   "execution_count": null,
   "id": "7a5bbd1e",
   "metadata": {},
   "outputs": [],
   "source": []
  },
  {
   "cell_type": "code",
   "execution_count": null,
   "id": "a234181e",
   "metadata": {},
   "outputs": [],
   "source": []
  },
  {
   "cell_type": "code",
   "execution_count": null,
   "id": "b9f8fcf5",
   "metadata": {},
   "outputs": [],
   "source": [
    "cond_probs = df.groupby('atrialfibrillation')['outcome'].mean()\n",
    "\n",
    "plt.style.use(\"ggplot\")\n",
    "\n",
    "plt.figure(figsize=(10, 6))\n",
    "cond_probs.plot(kind='bar',color=\"brown\")\n",
    "plt.title('Conditional Probability of Outcome=1 Given atrialfibrillation')\n",
    "plt.xlabel('atrialfibrillation')\n",
    "plt.ylabel('Probablity(Outcome=1/atrialfibrillation)')\n",
    "plt.show()\n"
   ]
  },
  {
   "cell_type": "code",
   "execution_count": null,
   "id": "411429aa",
   "metadata": {},
   "outputs": [],
   "source": [
    "import matplotlib.pyplot as plt\n",
    "import pandas as pd\n",
    "\n",
    "# Creating a crosstab for 'hypertensive' and 'diabetes'\n",
    "crosstab = pd.crosstab(df['hypertensive'], df['diabetes'])\n",
    "\n",
    "# Setting up the positions and width for the bars\n",
    "positions = list(range(len(crosstab)))\n",
    "bar_width = 0.35\n",
    "\n",
    "# Creating figure and axis\n",
    "plt.figure(figsize=(12, 8))\n",
    "\n",
    "# Ploting bars for each diabetes category\n",
    "for i, column in enumerate(crosstab.columns):\n",
    "    plt.bar([p + bar_width * i for p in positions], crosstab[column], width=bar_width, label=f'Diabetes {column}')\n",
    "\n",
    "# Adding labels, title, and legend\n",
    "plt.xlabel('Hypertensive')\n",
    "plt.ylabel('Count')\n",
    "plt.title('Interaction between Hypertension and Diabetes')\n",
    "plt.xticks([p + bar_width * (len(crosstab.columns) / 2) for p in positions], crosstab.index)\n",
    "plt.legend(title='Diabetes')\n",
    "\n",
    "\n",
    "plt.show()"
   ]
  },
  {
   "cell_type": "code",
   "execution_count": null,
   "id": "90fef026",
   "metadata": {},
   "outputs": [],
   "source": [
    "sns.countplot(x='gendera', hue='outcome', data=df, palette='Set2')\n",
    "plt.title('Gender vs. Outcome')\n",
    "plt.xlabel('Gender')\n",
    "plt.ylabel('Frequency')\n",
    "plt.show()"
   ]
  },
  {
   "cell_type": "code",
   "execution_count": null,
   "id": "dccb31c4",
   "metadata": {},
   "outputs": [],
   "source": [
    "import seaborn as sns\n",
    "\n",
    "sns.pairplot(df[['age', 'BMI', 'heart_rate', 'Systolic_blood_pressure', 'Diastolic_blood_pressure']])\n",
    "plt.show()"
   ]
  },
  {
   "cell_type": "code",
   "execution_count": null,
   "id": "c1a788cc",
   "metadata": {},
   "outputs": [],
   "source": []
  },
  {
   "cell_type": "code",
   "execution_count": null,
   "id": "bfc294f5",
   "metadata": {},
   "outputs": [],
   "source": [
    "correlation_matrix = df[['age', 'BMI', 'heart_rate', 'Systolic_blood_pressure', 'Diastolic_blood_pressure']].corr()\n",
    "plt.figure(figsize=(10, 8))\n",
    "sns.heatmap(correlation_matrix, annot=True, cmap='coolwarm', vmin=-1, vmax=1)\n",
    "plt.title('Heatmap of Correlation Matrix')\n",
    "plt.show()"
   ]
  },
  {
   "cell_type": "code",
   "execution_count": null,
   "id": "5a48d327",
   "metadata": {},
   "outputs": [],
   "source": [
    "plt.figure(figsize=(12, 6))\n",
    "sns.violinplot(x='diabetes', y='age', data=df)\n",
    "plt.title('Violin Plot of Age by Diabetes Status')\n",
    "plt.xlabel('Diabetes')\n",
    "plt.ylabel('Age')\n",
    "plt.show()"
   ]
  },
  {
   "cell_type": "code",
   "execution_count": null,
   "id": "c101d7c8",
   "metadata": {},
   "outputs": [],
   "source": [
    "plt.figure(figsize=(12, 6))\n",
    "sns.kdeplot(df[df['outcome'] == 0]['NT-proBNP'], label='Outcome=0', shade=True)\n",
    "sns.kdeplot(df[df['outcome'] == 1]['NT-proBNP'], label='Outcome=1', shade=True)\n",
    "plt.title('KDE Plot of NT-proBNP by Outcome')\n",
    "plt.xlabel('NT-proBNP')\n",
    "plt.ylabel('Density')\n",
    "plt.legend()\n",
    "plt.show()"
   ]
  },
  {
   "cell_type": "code",
   "execution_count": null,
   "id": "a7c23489",
   "metadata": {},
   "outputs": [],
   "source": [
    "plt.figure(figsize=(12, 6))\n",
    "sns.scatterplot(x='age', y='heart_rate', hue='outcome', data=df)\n",
    "plt.title('Scatter Plot of Age and Heart Rate by Outcome')\n",
    "plt.xlabel('Age')\n",
    "plt.ylabel('Heart Rate')\n",
    "plt.legend(title='Outcome')\n",
    "plt.show()\n"
   ]
  },
  {
   "cell_type": "code",
   "execution_count": null,
   "id": "447e4f82",
   "metadata": {},
   "outputs": [],
   "source": []
  },
  {
   "cell_type": "code",
   "execution_count": null,
   "id": "1f29b2e9",
   "metadata": {},
   "outputs": [],
   "source": []
  },
  {
   "cell_type": "markdown",
   "id": "1be472d3",
   "metadata": {},
   "source": [
    "### Statistical Analysis"
   ]
  },
  {
   "cell_type": "code",
   "execution_count": null,
   "id": "38071bf0",
   "metadata": {},
   "outputs": [],
   "source": [
    "import numpy as np\n",
    "import pandas as pd\n",
    "import matplotlib.pyplot as plt\n",
    "import seaborn as sns\n",
    "import scipy.stats as stats\n",
    "\n",
    "# Assuming X_Numerical contains the continuous features and 'outcome' is in df\n",
    "continuous_features = Numerical_Vars_L\n",
    "# Function to create Q-Q plot\n",
    "def qq_plot(data, feature_name):\n",
    "    stats.probplot(data, dist=\"norm\", plot=plt)\n",
    "    plt.title(f'Q-Q Plot for {feature_name}')\n",
    "    plt.show()\n",
    "\n",
    "# Apply Q-Q plot for each numerical feature\n",
    "for feature in continuous_features:\n",
    "    # Drop NaN values\n",
    "    data = df[feature].dropna()\n",
    "    \n",
    "    # Q-Q Plot\n",
    "    qq_plot(data, feature)\n",
    "\n"
   ]
  },
  {
   "cell_type": "code",
   "execution_count": null,
   "id": "ab627ec9",
   "metadata": {},
   "outputs": [],
   "source": [
    "continuous_features"
   ]
  },
  {
   "cell_type": "code",
   "execution_count": null,
   "id": "60dffb64",
   "metadata": {},
   "outputs": [],
   "source": [
    "continuous_features_normal=[\"heart_rate\",'Systolic_blood_pressure','Diastolic_blood_pressure','Respiratory_rate', \"MCH\",\"MCHC\",\n",
    "                            'Platelets','Blood_calcium', \"Chloride\",\"Anion_gap\",\"Magnesium_ion\",\"Bicarbonate\"]"
   ]
  },
  {
   "cell_type": "code",
   "execution_count": null,
   "id": "7eddd2fa",
   "metadata": {},
   "outputs": [],
   "source": [
    "continuous_features_skewed = [item for item in continuous_features if item not in continuous_features_normal]"
   ]
  },
  {
   "cell_type": "code",
   "execution_count": null,
   "id": "f5a303ed",
   "metadata": {},
   "outputs": [],
   "source": [
    "import pandas as pd\n",
    "\n",
    "\n",
    "continuous_features = {\n",
    "    \"Normal Distribution\": ['age', 'BMI', 'temperature', 'Creatinine', 'Urea_nitrogen'],\n",
    "    \"Skewed Distribution\": ['heart_rate', 'Systolic_blood_pressure', 'Diastolic_blood_pressure', 'SP_O2',\n",
    "                            'Urine_output', 'Neutrophils', 'Basophils', 'Lymphocyte', 'NT-proBNP', \n",
    "                            'Blood_potassium', 'Blood_sodium', 'Blood_calcium', 'Chloride', 'Anion_gap',\n",
    "                            'Magnesium_ion', 'Bicarbonate', 'Lactic_acid', 'PCO2']\n",
    "}\n",
    "\n",
    "features_df = pd.DataFrame(dict([(k, pd.Series(v)) for k, v in continuous_features.items()])).fillna('')\n",
    "\n",
    "# Displaying the DataFrame with additional formatting for a neater output without row numbers\n",
    "styled_features_df = features_df.style.set_table_styles([\n",
    "    {'selector': 'th', 'props': [('border', '2px solid black')]},\n",
    "    {'selector': 'td', 'props': [('border', '1px solid black')]}\n",
    "]).hide(axis='index')\n",
    "\n",
    "styled_features_df"
   ]
  },
  {
   "cell_type": "code",
   "execution_count": null,
   "id": "2344a616",
   "metadata": {},
   "outputs": [],
   "source": [
    "import scipy.stats as stats\n",
    "import pandas as pd\n",
    "\n",
    "\n",
    "t_test_results = []\n",
    "\n",
    "for feature in continuous_features_normal:\n",
    "    group0 = df[df['outcome'] == 0][feature].dropna()\n",
    "    group1 = df[df['outcome'] == 1][feature].dropna()\n",
    "\n",
    "    # Perform t-test\n",
    "    t_stat, p_value = stats.ttest_ind(group0, group1)\n",
    "    \n",
    "    # Store the results with rounded values for better readability\n",
    "    t_test_results.append({\n",
    "        'Feature': feature,\n",
    "        't-statistic': round(t_stat, 5),\n",
    "        'p-value': round(p_value, 5)\n",
    "    })\n",
    "\n",
    "t_test_df = pd.DataFrame(t_test_results)\n",
    "\n",
    "\n",
    "t_test_df.index = t_test_df.index + 1\n",
    "\n",
    "# Displaying the DataFrame with formatting\n",
    "styled_t_test_df = t_test_df.style.set_table_styles([\n",
    "    {'selector': 'th', 'props': [('border', '2px solid black'), ('background-color', '#f2f2f2')]},\n",
    "    {'selector': 'td', 'props': [('border', '1px solid black')]}\n",
    "]).format({\n",
    "    't-statistic': '{:.5f}',\n",
    "    'p-value': '{:.5f}'\n",
    "}).hide(axis='index')  # Hiding the index to remove row numbers\n",
    "\n",
    "\n",
    "styled_t_test_df\n"
   ]
  },
  {
   "cell_type": "code",
   "execution_count": null,
   "id": "ed7ee59e",
   "metadata": {},
   "outputs": [],
   "source": [
    "import matplotlib.pyplot as plt\n",
    "\n",
    "features = t_test_df['Feature']\n",
    "p_values = t_test_df['p-value']\n",
    "\n",
    "plt.figure(figsize=(12, 8))\n",
    "bars = plt.bar(features, p_values, color='blue')\n",
    "\n",
    "# Adding a red cut-off line at p-value = 0.50\n",
    "plt.axhline(y=0.50, color='red', linestyle='--', linewidth=2)\n",
    "\n",
    "\n",
    "plt.xlabel('Features')\n",
    "plt.ylabel('p-value')\n",
    "plt.title('p-values of Features with Cut-off Line')\n",
    "plt.xticks(rotation=90)  # Rotate feature names for better readability\n",
    "plt.ylim(0, max(p_values) + 0.1)  # Set y-axis limit to be a bit higher than the max p-value\n",
    "\n",
    "\n",
    "for bar in bars:\n",
    "    yval = bar.get_height()\n",
    "    plt.text(bar.get_x() + bar.get_width()/2, yval + 0.02, round(yval, 5), ha='center', va='bottom')\n",
    "\n",
    "plt.tight_layout()\n",
    "plt.show()"
   ]
  },
  {
   "cell_type": "code",
   "execution_count": null,
   "id": "849bb474",
   "metadata": {},
   "outputs": [],
   "source": [
    "continuous_features_skewed"
   ]
  },
  {
   "cell_type": "code",
   "execution_count": null,
   "id": "fd6d541f",
   "metadata": {},
   "outputs": [],
   "source": [
    "import pandas as pd\n",
    "from scipy.stats import mannwhitneyu\n",
    "\n",
    "\n",
    "mann_whitney_results = []\n",
    "\n",
    "\n",
    "for feature in continuous_features_skewed:\n",
    "    group0 = df[df['outcome'] == 0][feature].dropna()  # Group 0 (Outcome = 0)\n",
    "    group1 = df[df['outcome'] == 1][feature].dropna()  # Group 1 (Outcome = 1)\n",
    "    \n",
    "   \n",
    "    stat, p_value = mannwhitneyu(group0, group1)\n",
    "    \n",
    "    # Storing the result with p-value as float for correct formatting\n",
    "    mann_whitney_results.append({\n",
    "        'Feature': feature,\n",
    "        'Mann-Whitney U Test p-value': p_value  # Store as float\n",
    "    })\n",
    "\n",
    "\n",
    "mann_whitney_results_df = pd.DataFrame(mann_whitney_results)\n",
    "\n",
    "# Display the DataFrame with formatting and without index\n",
    "styled_mann_whitney_df = mann_whitney_results_df.style.set_table_styles([\n",
    "    {'selector': 'th', 'props': [('border', '2px solid black'), ('background-color', '#f2f2f2')]},\n",
    "    {'selector': 'td', 'props': [('border', '1px solid black')]}\n",
    "]).format({\n",
    "    'Mann-Whitney U Test p-value': '{:.5f}'  # Format p-value to 5 decimal places\n",
    "}).hide(axis='index')  # Hide the index column\n",
    "\n",
    "\n",
    "styled_mann_whitney_df"
   ]
  },
  {
   "cell_type": "code",
   "execution_count": null,
   "id": "ece932f8",
   "metadata": {},
   "outputs": [],
   "source": [
    "import matplotlib.pyplot as plt\n",
    "\n",
    "\n",
    "features = mann_whitney_results_df['Feature']\n",
    "p_values = mann_whitney_results_df['Mann-Whitney U Test p-value']\n",
    "\n",
    "\n",
    "plt.figure(figsize=(12, 8))\n",
    "bars = plt.barh(features, p_values, color='blue')\n",
    "\n",
    "plt.axvline(x=0.50, color='red', linestyle='--', label='p-value = 0.50')\n",
    "\n",
    "\n",
    "plt.xlabel('p-value')\n",
    "plt.ylabel('Feature')\n",
    "plt.title('Mann-Whitney U Test p-values by Feature')\n",
    "plt.legend()\n",
    "\n",
    "\n",
    "plt.tight_layout()\n",
    "plt.show()"
   ]
  },
  {
   "cell_type": "code",
   "execution_count": null,
   "id": "eb199d92",
   "metadata": {},
   "outputs": [],
   "source": [
    "import pandas as pd\n",
    "from scipy.stats import chi2_contingency\n",
    "\n",
    "\n",
    "chi_square_results = []\n",
    "\n",
    "\n",
    "for feature in Categorical_Vars:\n",
    "    \n",
    "    contingency_table = pd.crosstab(df[feature], df['outcome'])\n",
    "    \n",
    "    # Performing Chi-Square Test\n",
    "    chi2_stat, p_value, dof, expected = chi2_contingency(contingency_table)\n",
    "    \n",
    "    # Storing the results with rounded values for better readability\n",
    "    chi_square_results.append({\n",
    "        'Feature': feature,\n",
    "        'Chi-Square statistic': round(chi2_stat, 3),\n",
    "        'p-value': round(p_value, 3)\n",
    "    })\n",
    "\n",
    "\n",
    "chi_square_df = pd.DataFrame(chi_square_results)\n",
    "\n",
    "# Display the DataFrame with formatting and without index\n",
    "styled_chi_square_df = chi_square_df.style.set_table_styles([\n",
    "    {'selector': 'th', 'props': [('border', '2px solid black'), ('background-color', '#f2f2f2')]},\n",
    "    {'selector': 'td', 'props': [('border', '1px solid black')]}\n",
    "]).format({\n",
    "    'Chi-Square statistic': '{:.3f}',\n",
    "    'p-value': '{:.3f}'\n",
    "}).hide(axis='index')  # Hide the index column\n",
    "\n",
    "\n",
    "styled_chi_square_df"
   ]
  },
  {
   "cell_type": "code",
   "execution_count": null,
   "id": "49169bac",
   "metadata": {},
   "outputs": [],
   "source": [
    "import matplotlib.pyplot as plt\n",
    "\n",
    "\n",
    "features = chi_square_df['Feature']\n",
    "p_values = chi_square_df['p-value']\n",
    "\n",
    "\n",
    "plt.figure(figsize=(12, 8))\n",
    "bars = plt.barh(features, p_values, color='blue')\n",
    "\n",
    "# Adding a horizontal line at p-value = 0.50\n",
    "plt.axvline(x=0.50, color='red', linestyle='--', label='p-value = 0.50')\n",
    "\n",
    "\n",
    "plt.xlabel('p-value')\n",
    "plt.ylabel('Feature')\n",
    "plt.title('Chi-Square Test p-values by Feature')\n",
    "plt.legend()\n",
    "\n",
    "\n",
    "plt.tight_layout()\n",
    "plt.show()"
   ]
  },
  {
   "cell_type": "code",
   "execution_count": null,
   "id": "c8a9b852",
   "metadata": {},
   "outputs": [],
   "source": []
  },
  {
   "cell_type": "code",
   "execution_count": null,
   "id": "010d4aa1",
   "metadata": {},
   "outputs": [],
   "source": []
  },
  {
   "cell_type": "code",
   "execution_count": null,
   "id": "cab56a00",
   "metadata": {},
   "outputs": [],
   "source": [
    "## Dropping the rejected columns\n",
    "Drop=['CHD_with_no_MI','hematocrit','Creatine_kinase','glucose','MCH']\n",
    "df.drop(columns=Drop,inplace=True)"
   ]
  },
  {
   "cell_type": "code",
   "execution_count": null,
   "id": "45e0e039",
   "metadata": {},
   "outputs": [],
   "source": [
    "df.shape"
   ]
  },
  {
   "cell_type": "code",
   "execution_count": null,
   "id": "2709640e",
   "metadata": {},
   "outputs": [],
   "source": [
    "## Saving the dataframe after feature selection\n",
    "df.to_csv('prepared_df.csv', index=False)"
   ]
  }
 ],
 "metadata": {
  "kernelspec": {
   "display_name": "Python 3 (ipykernel)",
   "language": "python",
   "name": "python3"
  },
  "language_info": {
   "codemirror_mode": {
    "name": "ipython",
    "version": 3
   },
   "file_extension": ".py",
   "mimetype": "text/x-python",
   "name": "python",
   "nbconvert_exporter": "python",
   "pygments_lexer": "ipython3",
   "version": "3.9.12"
  }
 },
 "nbformat": 4,
 "nbformat_minor": 5
}
